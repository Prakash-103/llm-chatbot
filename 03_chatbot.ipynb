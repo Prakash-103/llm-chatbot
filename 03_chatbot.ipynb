{
 "cells": [
  {
   "cell_type": "code",
   "execution_count": 1,
   "id": "d9031179",
   "metadata": {},
   "outputs": [],
   "source": [
    "# from dotenv import load_dotenv\n",
    "# import os\n",
    "\n",
    "# load_dotenv()   \n",
    "# api_key = os.getenv(\"openai_api_key\")"
   ]
  },
  {
   "cell_type": "code",
   "execution_count": 2,
   "id": "8f6d815b",
   "metadata": {},
   "outputs": [],
   "source": [
    "# working but we want to pay fee for the token \n",
    "# llm=init_chat_model(\"openai:gpt-4.1\")\n",
    "# llm.invoke(\"first person walk on the moon\")"
   ]
  },
  {
   "cell_type": "code",
   "execution_count": 3,
   "id": "f5b90077",
   "metadata": {},
   "outputs": [],
   "source": [
    "# # not working there is a issue to be resolved\n",
    "# llm=init_chat_model(\"google_genai:gemini-2.5-flash\")\n",
    "# llm.invoke(\"first person walk on the moon\")"
   ]
  },
  {
   "cell_type": "code",
   "execution_count": 4,
   "id": "e5c0a06c",
   "metadata": {},
   "outputs": [],
   "source": [
    "from langchain.chat_models import ChatOpenAI\n",
    "from langchain.schema import HumanMessage\n",
    "from typing_extensions import Annotated,TypedDict\n",
    "from langgraph.graph import StateGraph,START,END,add_messages\n",
    "from langchain_core.messages import HumanMessage, BaseMessage"
   ]
  },
  {
   "cell_type": "code",
   "execution_count": 5,
   "id": "d60e73b0",
   "metadata": {},
   "outputs": [
    {
     "name": "stderr",
     "output_type": "stream",
     "text": [
      "C:\\Users\\DELL LATITUDE 7400\\AppData\\Local\\Temp\\ipykernel_29092\\1127322194.py:7: LangChainDeprecationWarning: The class `ChatOpenAI` was deprecated in LangChain 0.0.10 and will be removed in 1.0. An updated version of the class exists in the :class:`~langchain-openai package and should be used instead. To use it run `pip install -U :class:`~langchain-openai` and import as `from :class:`~langchain_openai import ChatOpenAI``.\n",
      "  llm = ChatOpenAI(\n"
     ]
    }
   ],
   "source": [
    "\n",
    "from dotenv import load_dotenv\n",
    "import os\n",
    "\n",
    "load_dotenv()   \n",
    "api_key = os.getenv(\"OPENROUTER_API_KEY\")\n",
    "\n",
    "llm = ChatOpenAI(\n",
    "    model_name=\"openrouter/cypher-alpha:free\",\n",
    "    openai_api_key=api_key,\n",
    "    openai_api_base=\"https://openrouter.ai/api/v1\",\n",
    ")\n",
    "## for only print the input and output\n",
    "# content = input(\"Enter your message: \")\n",
    "# response = chat([HumanMessage(content=content)])\n",
    "# print(content)\n",
    "# print(response.content)\n",
    "\n",
    "#  direct testing\n",
    "# llm.invoke(\"what is the first person to walk on the moon?\")\n"
   ]
  },
  {
   "cell_type": "code",
   "execution_count": 6,
   "id": "432c34e4",
   "metadata": {},
   "outputs": [],
   "source": [
    "class State(TypedDict):\n",
    "    messages : Annotated[list,add_messages]\n",
    "\n",
    "def chatbot(state: State) -> State:\n",
    "    raw_msgs = state[\"messages\"]\n",
    "    messages = []\n",
    "    for msg in raw_msgs:\n",
    "        if isinstance(msg, dict):\n",
    "            if msg[\"role\"] == \"user\":\n",
    "                messages.append(HumanMessage(content=msg[\"content\"]))\n",
    "        else:\n",
    "            messages.append(msg)  # Already a LangChain message object\n",
    "    response = llm.invoke(messages)\n",
    "    return {\"messages\": [response]}\n",
    "\n",
    "\n",
    "builder = StateGraph(State)\n",
    "builder.add_node(\"chatbot_Node\",chatbot )\n",
    "\n",
    "builder.add_edge(START,\"chatbot_Node\")   \n",
    "builder.add_edge(\"chatbot_Node\",END)\n",
    "\n",
    "graph = builder.compile()"
   ]
  },
  {
   "cell_type": "code",
   "execution_count": null,
   "id": "09b1b727",
   "metadata": {},
   "outputs": [
    {
     "data": {
      "text/plain": [
       "[HumanMessage(content='who is the first person to walk on the moon?', additional_kwargs={}, response_metadata={}, id='acd62e06-6b2e-4037-89eb-736d161151a2'),\n",
       " AIMessage(content='The first person to walk on the moon was Neil Armstrong, an American astronaut. He achieved this milestone during the Apollo 11 mission on July 20, 1969, when he stepped out of the lunar module and onto the moon\\'s surface, uttering the famous words, \"That\\'s one small step for man, one giant leap for mankind.\"\\n\\nWould you like to learn anything more about the moon or space exploration?', additional_kwargs={}, response_metadata={'token_usage': {'completion_tokens': 91, 'prompt_tokens': 82, 'total_tokens': 173, 'completion_tokens_details': None, 'prompt_tokens_details': None}, 'model_name': 'openrouter/cypher-alpha:free', 'system_fingerprint': None, 'finish_reason': 'stop', 'logprobs': None}, id='run--b7bc3c18-f2f5-471e-bbdb-68461bda36e7-0')]"
      ]
     },
     "execution_count": 8,
     "metadata": {},
     "output_type": "execute_result"
    }
   ],
   "source": [
    "message={\"role\":\"user\",\"content\": \"who is the first person to walk on the moon?\"}\n",
    "\n",
    "response=graph.invoke({\"messages\": [message]})\n",
    "\n",
    "response[\"messages\"]\n",
    "       "
   ]
  },
  {
   "cell_type": "code",
   "execution_count": null,
   "id": "792704ce",
   "metadata": {},
   "outputs": [],
   "source": []
  },
  {
   "cell_type": "code",
   "execution_count": null,
   "id": "e4840867",
   "metadata": {},
   "outputs": [
    {
     "name": "stdout",
     "output_type": "stream",
     "text": [
      "\n",
      "\n",
      "\n",
      "\t AI: The first person to walk on the moon was Neil Armstrong. He accomplished this historic feat on July 20, 1969, during NASA's Apollo 11 mission. If you have any more questions, feel free to ask!\n",
      "\n",
      "\n",
      "\n",
      "\t AI: It seems like you might have intended to type \"Reddit.\" Reddit is a popular social media platform where users can submit content, such as links, text posts, images, and videos, which are then voted up or down by other members. Each post is submitted to a board called a \"subreddit,\" which is dedicated to a specific topic.\n",
      "\n",
      "If you were looking for information related to Reddit or have any specific questions about it, feel free to ask!\n",
      "\n",
      "\n",
      "\n",
      "\t AI: Apple Inc. is a multinational technology company headquartered in Cupertino, California. It is known for its innovation in consumer electronics, software, and personal computers. Some of Apple's most popular products include the iPhone, iPad, Mac computers, Apple Watch, and various software and services like iOS, macOS, and Apple Music.\n",
      "\n",
      "Apple is renowned for its design and user-friendly technology, and it has a significant influence on the tech industry and consumer electronics worldwide. The company was founded by Steve Jobs, Steve Wozniak, and Ronald Wayne in April 1976 and was incorporated by Jobs and Wozniak in January 1977.\n",
      "\n",
      "If you have any specific questions about Apple or its products, feel free to ask!\n",
      "\n",
      "\n",
      "\n",
      "\t AI: AI, or Artificial Intelligence, refers to the development of computer systems that can perform tasks normally requiring human intelligence. These tasks include visual perception, speech recognition, decision-making, and language translation.\n",
      "\n",
      "AI can be categorized into two types:\n",
      "\n",
      "1. Narrow AI: Also known as Weak AI, it is designed and trained to perform a specific task. Examples include virtual assistants like Siri or Alexa, recommendation systems used by Netflix or Amazon, and spam filters in email services.\n",
      "\n",
      "2. General AI: Also known as Strong AI or AGI (Artificial General Intelligence), it refers to a theoretical form of AI that has the ability to understand, learn, and apply intelligence to any problem, much like a human. AGI does not yet exist and remains a topic of ongoing research and development.\n",
      "\n",
      "AI is used in various industries, including healthcare, finance, education, transportation, and more. It has the potential to significantly improve efficiency, decision-making, and innovation across many fields.\n",
      "\n",
      "If you have any specific questions about AI, feel free to ask!\n"
     ]
    }
   ],
   "source": [
    "state = None\n",
    "while True: \n",
    "    in_message = input(\"Enter your message: \")\n",
    "    if in_message.lower() == \"exit\":\n",
    "        break\n",
    "    if state is None:\n",
    "        state:State = {\"messages\": [{\"role\": \"user\", \"content\": in_message}]}\n",
    "    else:\n",
    "        state[\"messages\"].append({\"role\": \"user\", \"content\": in_message})   \n",
    "\n",
    "    state = graph.invoke(state)     \n",
    "    print(\"\\n\\n\\n BOT:\\n\", state[\"messages\"][-1].content)     \n"
   ]
  }
 ],
 "metadata": {
  "kernelspec": {
   "display_name": "langraph-learning",
   "language": "python",
   "name": "python3"
  },
  "language_info": {
   "codemirror_mode": {
    "name": "ipython",
    "version": 3
   },
   "file_extension": ".py",
   "mimetype": "text/x-python",
   "name": "python",
   "nbconvert_exporter": "python",
   "pygments_lexer": "ipython3",
   "version": "3.13.2"
  }
 },
 "nbformat": 4,
 "nbformat_minor": 5
}
