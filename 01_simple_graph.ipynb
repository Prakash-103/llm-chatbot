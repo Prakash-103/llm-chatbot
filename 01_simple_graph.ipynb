{
 "cells": [
  {
   "cell_type": "code",
   "execution_count": 48,
   "id": "e46a5c62",
   "metadata": {},
   "outputs": [],
   "source": [
    "from typing import TypedDict\n",
    "\n",
    "class ProjectConfig(TypedDict):\n",
    "    amount_usd: float\n",
    "    total_usd: float    \n",
    "    total_inr: float    \n",
    "    total_eur: float    \n",
    "    "
   ]
  },
  {
   "cell_type": "code",
   "execution_count": 49,
   "id": "65808bde",
   "metadata": {},
   "outputs": [],
   "source": [
    "# myobj: ProjectConfig = {    \n",
    "#     'amount_usd': 1000.0,\n",
    "#     'total_usd': 1000,    \n",
    "#     'total_inr': 2000,  # This should be a float, but is intentionally incorrect for demonstration\n",
    "#     'total_eur': 900,}"
   ]
  },
  {
   "cell_type": "code",
   "execution_count": 50,
   "id": "31461161",
   "metadata": {},
   "outputs": [],
   "source": [
    "def calc_total(state: ProjectConfig) -> ProjectConfig:\n",
    "    \"\"\"\n",
    "    Calculate the total returns amount in USD.\n",
    "    \"\"\"\n",
    "    state['total_usd'] = state['amount_usd'] * 1.08\n",
    "    return state    \n",
    "\n",
    "def convert_to_inr(state: ProjectConfig) -> ProjectConfig:\n",
    "    \"\"\"\n",
    "    Calculate the total returns amount in INR.\n",
    "    \"\"\"\n",
    "    state['total_inr'] = state['total_usd'] * 82.0\n",
    "    return state    \n",
    "\n",
    "def convert_to_eur(state: ProjectConfig) -> ProjectConfig:\n",
    "    \"\"\"\n",
    "    Calculate the total returns amount in EUR.\n",
    "    \"\"\"\n",
    "    state['total_eru'] = state['total_usd'] * 0.92\n",
    "    return state    "
   ]
  },
  {
   "cell_type": "code",
   "execution_count": 51,
   "id": "834a1d34",
   "metadata": {},
   "outputs": [],
   "source": [
    "from langgraph.graph import StateGraph,START,END\n",
    "\n",
    "bulider= StateGraph(ProjectConfig)\n",
    "\n",
    "bulider.add_node(\"calc_total\", calc_total)\n",
    "bulider.add_node(\"convert_to_inr\", convert_to_inr)\n",
    "bulider.add_node(\"convert_to_eur\", convert_to_eur)\n",
    "\n",
    "bulider.add_edge(START, \"calc_total\")\n",
    "bulider.add_edge(\"calc_total\", \"convert_to_inr\")\n",
    "# bulider.add_edge(\"calc_total\", \"convert_to_eur\")\n",
    "bulider.add_edge(\"convert_to_inr\", END)\n",
    "\n",
    "\n",
    "graph = bulider.compile()\n",
    "\n",
    "\n"
   ]
  },
  {
   "cell_type": "code",
   "execution_count": 52,
   "id": "096b9387",
   "metadata": {},
   "outputs": [
    {
     "data": {
      "image/png": "[encoded data removed]",
      "text/plain": [
       "<IPython.core.display.Image object>"
      ]
     },
     "metadata": {},
     "output_type": "display_data"
    }
   ],
   "source": [
    "from IPython.display import display, Image\n",
    "\n",
    "# assuming draw_mermaid_png() returns image bytes\n",
    "display(Image(data=graph.get_graph().draw_mermaid_png()))\n"
   ]
  },
  {
   "cell_type": "code",
   "execution_count": 53,
   "id": "21ab251a",
   "metadata": {},
   "outputs": [
    {
     "data": {
      "text/plain": [
       "{'amount_usd': 1000.0, 'total_usd': 1080.0, 'total_inr': 88560.0}"
      ]
     },
     "execution_count": 53,
     "metadata": {},
     "output_type": "execute_result"
    }
   ],
   "source": [
    "graph.invoke({'amount_usd': 1000.0,})"
   ]
  }
 ],
 "metadata": {
  "kernelspec": {
   "display_name": "langraph-learning",
   "language": "python",
   "name": "python3"
  },
  "language_info": {
   "codemirror_mode": {
    "name": "ipython",
    "version": 3
   },
   "file_extension": ".py",
   "mimetype": "text/x-python",
   "name": "python",
   "nbconvert_exporter": "python",
   "pygments_lexer": "ipython3",
   "version": "3.13.2"
  }
 },
 "nbformat": 4,
 "nbformat_minor": 5
}
